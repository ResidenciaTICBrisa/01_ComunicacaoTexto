{
 "cells": [
  {
   "cell_type": "markdown",
   "id": "b08f0f1b",
   "metadata": {},
   "source": [
    "# Benchmark de plugins para Text-to-Speech"
   ]
  },
  {
   "cell_type": "markdown",
   "id": "66d0d5fe",
   "metadata": {},
   "source": [
    "O objetivo deste benchmark é avaliar e comparar diferentes plugins de Text to Speech (TTS) com foco no uso de software livre e no baixo consumo de dados de internet. O benchmark visa identificar as soluções mais eficientes e economicamente viáveis para a conversão de texto em fala, considerando os requisitos de código aberto e a minimização do uso de dados da internet."
   ]
  },
  {
   "cell_type": "markdown",
   "id": "0ca30eeb",
   "metadata": {},
   "source": [
    "## Lista de plugins testados neste benchmark"
   ]
  },
  {
   "cell_type": "code",
   "execution_count": null,
   "id": "e09c08f1",
   "metadata": {},
   "outputs": [],
   "source": []
  },
  {
   "cell_type": "markdown",
   "id": "7fc59d1f",
   "metadata": {},
   "source": [
    "## Principais requisitos testados"
   ]
  },
  {
   "cell_type": "code",
   "execution_count": null,
   "id": "951ff705",
   "metadata": {},
   "outputs": [],
   "source": []
  },
  {
   "cell_type": "markdown",
   "id": "5a3db59b",
   "metadata": {},
   "source": [
    "## Ferramentas utilizadas"
   ]
  },
  {
   "cell_type": "markdown",
   "id": "a45836ad",
   "metadata": {},
   "source": [
    "- **Net Limiter**: NetLimiter é uma ferramenta de software projetada para ajudar os usuários a controlar e limitar a velocidade de sua conexão com a internet. Com essa ferramenta, foi possível definir limites de velocidade para aplicativos e processos específicos."
   ]
  },
  {
   "cell_type": "markdown",
   "id": "a63a8c49",
   "metadata": {},
   "source": [
    "- **Nload**: Com o Nload, foi possível visualizar estatísticas detalhadas sobre a taxa de transferência de dados, a utilização da largura de banda e outros parâmetros relacionados ao tráfego de rede. "
   ]
  },
  {
   "cell_type": "markdown",
   "id": "b38a3d08",
   "metadata": {},
   "source": [
    "- **Wondershaper**: O Wondershaper é uma ferramenta de linha de comando para Linux que permite controlar e limitar a largura de banda de uma conexão de rede. É uma solução simples e eficaz para gerenciar o tráfego de rede em sistemas Linux."
   ]
  },
  {
   "cell_type": "markdown",
   "id": "e788f4cd",
   "metadata": {},
   "source": [
    "- **DevTools**: O DevTools é um conjunto de ferramentas de desenvolvimento integradas nos navegadores modernos, como o Google Chrome, Mozilla Firefox e Microsoft Edge. Uma das funcionalidades do DevTools é a capacidade de simular diferentes condições de rede, incluindo limitações de velocidade de banda larga. Isso permitiu avaliar o desempenho dos plugins em diferentes cenários de conexão."
   ]
  },
  {
   "cell_type": "markdown",
   "id": "31eb5f47",
   "metadata": {},
   "source": [
    "## Roteiro de testes"
   ]
  },
  {
   "cell_type": "code",
   "execution_count": null,
   "id": "298d36bc",
   "metadata": {},
   "outputs": [],
   "source": []
  },
  {
   "cell_type": "markdown",
   "id": "f6806f6b",
   "metadata": {},
   "source": [
    "## Testes por plugin"
   ]
  },
  {
   "cell_type": "code",
   "execution_count": null,
   "id": "07376de3",
   "metadata": {},
   "outputs": [],
   "source": []
  }
 ],
 "metadata": {
  "kernelspec": {
   "display_name": "Python 3 (ipykernel)",
   "language": "python",
   "name": "python3"
  },
  "language_info": {
   "codemirror_mode": {
    "name": "ipython",
    "version": 3
   },
   "file_extension": ".py",
   "mimetype": "text/x-python",
   "name": "python",
   "nbconvert_exporter": "python",
   "pygments_lexer": "ipython3",
   "version": "3.9.7"
  }
 },
 "nbformat": 4,
 "nbformat_minor": 5
}
