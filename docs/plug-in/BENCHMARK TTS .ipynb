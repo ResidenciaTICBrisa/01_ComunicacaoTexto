{
 "cells": [
  {
   "cell_type": "markdown",
   "id": "b08f0f1b",
   "metadata": {},
   "source": [
    "# Benchmark de plugins para Text-to-Speech"
   ]
  },
  {
   "cell_type": "markdown",
   "id": "66d0d5fe",
   "metadata": {},
   "source": [
    "O objetivo deste benchmark é avaliar e comparar diferentes plugins de Text to Speech (TTS) com foco no uso de software livre e no baixo consumo de dados de internet. O benchmark visa identificar as soluções mais eficientes e economicamente viáveis para a conversão de texto em fala, considerando os requisitos de código aberto e a minimização do uso de dados da internet."
   ]
  },
  {
   "cell_type": "markdown",
   "id": "0ca30eeb",
   "metadata": {},
   "source": [
    "## Lista de plugins testados neste benchmark"
   ]
  },
  {
   "cell_type": "markdown",
   "id": "e8f263bf",
   "metadata": {},
   "source": [
    "- Read Aloud\n",
    "- Talkie "
   ]
  },
  {
   "cell_type": "markdown",
   "id": "7fc59d1f",
   "metadata": {},
   "source": [
    "## Principais requisitos testados"
   ]
  },
  {
   "cell_type": "markdown",
   "id": "4352e2f8",
   "metadata": {},
   "source": [
    "- Baixo consumo de dados\n",
    "- Software livre\n",
    "- Funcionar na maioria dos navegadores (chrome, mozila, edge)\n",
    "- Voz reconhecível"
   ]
  },
  {
   "cell_type": "markdown",
   "id": "5a3db59b",
   "metadata": {},
   "source": [
    "## Ferramentas utilizadas"
   ]
  },
  {
   "cell_type": "markdown",
   "id": "a45836ad",
   "metadata": {},
   "source": [
    "- **Net Limiter**: NetLimiter é uma ferramenta de software projetada para ajudar os usuários a controlar e limitar a velocidade de sua conexão com a internet. Com essa ferramenta, foi possível definir limites de velocidade para aplicativos e processos específicos."
   ]
  },
  {
   "cell_type": "markdown",
   "id": "a63a8c49",
   "metadata": {},
   "source": [
    "- **Nload**: Com o Nload, foi possível visualizar estatísticas detalhadas sobre a taxa de transferência de dados, a utilização da largura de banda e outros parâmetros relacionados ao tráfego de rede. "
   ]
  },
  {
   "cell_type": "markdown",
   "id": "b38a3d08",
   "metadata": {},
   "source": [
    "- **Wondershaper**: O Wondershaper é uma ferramenta de linha de comando para Linux que permite controlar e limitar a largura de banda de uma conexão de rede. É uma solução simples e eficaz para gerenciar o tráfego de rede em sistemas Linux."
   ]
  },
  {
   "cell_type": "markdown",
   "id": "e788f4cd",
   "metadata": {},
   "source": [
    "- **DevTools**: O DevTools é um conjunto de ferramentas de desenvolvimento integradas nos navegadores modernos, como o Google Chrome, Mozilla Firefox e Microsoft Edge. Uma das funcionalidades do DevTools é a capacidade de simular diferentes condições de rede, incluindo limitações de velocidade de banda larga. Isso permitiu avaliar o desempenho dos plugins em diferentes cenários de conexão."
   ]
  },
  {
   "cell_type": "markdown",
   "id": "df180bad",
   "metadata": {},
   "source": [
    "## Configuração do ambiente\n",
    "\n",
    "Para simular o ambiente utilizamos as ferramentas citadas acima para limitar a velocidade da rede, desta forma emulando a velocidade usual que os usuários utilizam.\n",
    "\n",
    "![Velocidade média de download de rede móvel](https://static.poder360.com.br/2019/05/Captura-de-Tela-2019-05-16-a%CC%80s-20.34.56-1024x443.png \"Velocidade média de download de rede móvel\")\n",
    "<h6 align = \"center\"> Imagem 1: Velocidade média de download de rede móvel para planos 3G e 4G</h6>\n",
    "  \n",
    "![Velocidade média de upload de rede móvel](https://static.poder360.com.br/2019/05/Captura-de-Tela-2019-05-16-a%CC%80s-20.37.51-1024x454.png \"Velocidade média de upload de rede móvel\")\n",
    "<h6 align = \"center\"> Imagem 2: Velocidade média de upload de rede móvel para planos 3G e 4G</h6>\n",
    "  \n",
    "## Roteiro de testes\n",
    "\n",
    "1. A rede deve ser limitada\n",
    "2. O texto da página de ouvidoria do gov.br deve ser selecionado\n",
    "3. A extensão deve ser executada até que o texto inteiro seja lido\n",
    "4. Os dados de uso devem ser coletados e expostos seguindo os principais requisitos citados."
   ]
  },
  {
   "cell_type": "markdown",
   "id": "f6806f6b",
   "metadata": {},
   "source": [
    "## Testes por plugin"
   ]
  },
  {
   "cell_type": "markdown",
   "id": "32cea597",
   "metadata": {},
   "source": [
    "### Read Aloud\n",
    "\n",
    "#### Desempenho utilizando banda larga (Upload: 0,5 MB/s, Download: 1 MB/s)\n",
    "\n",
    "| Data de realização | Hardware Utilizado | Tempo de Resposta | Tamanho do Pacote utilizado | Consumo de dados médio | Navegador Utilizado | Observações |\n",
    "|:------------------:|:------------------:|:---------------:|:-----------------:|:-------------------:|:------------------:|:--------------------:|\n",
    "| 02/07/2023 | Notebook / Windows | 1.86 seg pra iniciar | 5.5 MB | 54.0 Kbit/s | Google Chrome | Só as vozes offline funcionaram, as outras dão tempo excedido |\n",
    "| 02/07/2023 | Notebook / Windows | 2.42 seg pra iniciar | 5.25 MB | 88.0 Kbits/s | Edge | Vozes offline funcionam |\n",
    "\n",
    "#### Desempenho utilizando banda larga (Upload: 2,5 MB/s, Download: 8MB/s)\n",
    "\n",
    "| Data de realização | Hardware Utilizado | Tempo de Resposta | Tamanho do Pacote utilizado | Consumo de dados médio |Navegador Utilizado | Observações |\n",
    "|:------------------:|:------------------:|:-----------------:|:---------------------------:|:----------------------:|:------------------:|:------------------:|\n",
    "| 03/07/2023 | Notebook / Linux | 1.06 seg para iniciar | 5.25 MB | 42.0 Kbit/s | Google Chrome | |\n",
    "| 03/07/2023 | Notebook / Linux | 1.03 seg para iniciar | 4.625 MB | 37.0 Kbit/s | Mozilla | |\n",
    "| 03/07/2023 | Notebook / Linux | 1.11 seg para iniciar | 15.25 MB | 120.0 Kbit/s | Edge | O navegador edge de fábrica aparenta refazer requisições enquanto a página roda |"
   ]
  },
  {
   "cell_type": "markdown",
   "id": "40e222c8",
   "metadata": {},
   "source": [
    "### Talkie\n",
    "\n",
    "#### Desempenho utilizando banda larga (Upload: 0,5 MB/s, Download: 1 MB/s)\n",
    "| Data de realização | Hardware Utilizado | Tempo de Resposta | Tamanho do Pacote utilizado | Consumo de dados médio |Navegador Utilizado | Observações |\n",
    "|:------------------:|:------------------:|:-----------------:|:---------------------------:|:----------------------:|:------------------:|:------------------:|\n",
    "| 03/07/2023 | Notebook / Windows | 1.44 seg para iniciar | 4.75 MB | 32.0 Kbit/s | Google Chrome |\n",
    "| 03/07/2023 | - | - | - | - | Edge | O navegador não possui acesso a esta extensão |\n",
    "\n",
    "#### Desempenho utilizando banda larga (Upload: 2,5 MB/s, Download: 8MB/s)\n",
    "| Data de realização | Hardware Utilizado | Tempo de Resposta | Tamanho do Pacote utilizado | Consumo de dados médio |Navegador Utilizado | Observações |\n",
    "|:------------------:|:------------------:|:-----------------:|:---------------------------:|:----------------------:|:------------------:|:------------------:|\n",
    "| 03/07/2023 | Notebook / Linux | 0.98 seg para iniciar | 3.75 MB | 30.0 Kbit/s | Google Chrome | |\n",
    "| 03/07/2023 | Notebook / Linux | 1.00 seg para iniciar | 3.85 MB | 31.0 Kbit/s | Mozilla | Para utilizar o talkie no mozilla de fábrica é necessário instalar vozes no sistema |\n",
    "| 03/07/2023 | - | - | - | - | Edge | O navegador não possui acesso a esta extensão |"
   ]
  },
  {
   "cell_type": "code",
   "execution_count": 5,
   "id": "998147d3",
   "metadata": {},
   "outputs": [
    {
     "data": {
      "image/png": "[encoded data removed]",
      "text/plain": [
       "<Figure size 432x288 with 1 Axes>"
      ]
     },
     "metadata": {
      "needs_background": "light"
     },
     "output_type": "display_data"
    }
   ],
   "source": [
    "import matplotlib.pyplot as plt\n",
    "\n",
    "tamanho_pacote_MB = 5.125\n",
    "consumo_read_aloud_Kbps = 54.0\n",
    "consumo_talkie_Kbps = 32.0\n",
    "\n",
    "tamanho_pacote_Mbit = tamanho_pacote_MB * 8\n",
    "consumo_read_aloud_Mbps = consumo_read_aloud_Kbps / 1000\n",
    "consumo_talkie_Mbps = consumo_talkie_Kbps / 1000\n",
    "\n",
    "plugins = ['Talkie', 'Read Aloud']\n",
    "valores = [consumo_talkie_Mbps, consumo_read_aloud_Mbps]\n",
    "\n",
    "plt.bar(plugins, valores)\n",
    "plt.ylabel('Megabits por segundo (Mbps)')\n",
    "plt.title('Comparação de Consumo de Dados dos Plugins')\n",
    "\n",
    "plt.show()"
   ]
  },
  {
   "cell_type": "markdown",
   "id": "f6a74c87",
   "metadata": {},
   "source": [
    "## Conclusão"
   ]
  },
  {
   "cell_type": "code",
   "execution_count": null,
   "id": "640c8a7f",
   "metadata": {},
   "outputs": [],
   "source": []
  }
 ],
 "metadata": {
  "kernelspec": {
   "display_name": "Python 3 (ipykernel)",
   "language": "python",
   "name": "python3"
  },
  "language_info": {
   "codemirror_mode": {
    "name": "ipython",
    "version": 3
   },
   "file_extension": ".py",
   "mimetype": "text/x-python",
   "name": "python",
   "nbconvert_exporter": "python",
   "pygments_lexer": "ipython3",
   "version": "3.9.7"
  }
 },
 "nbformat": 4,
 "nbformat_minor": 5
}
